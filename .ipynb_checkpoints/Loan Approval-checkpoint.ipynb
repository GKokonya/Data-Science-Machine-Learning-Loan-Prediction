{
 "cells": [
  {
   "cell_type": "code",
   "execution_count": 2,
   "metadata": {
    "colab": {},
    "colab_type": "code",
    "executionInfo": {
     "elapsed": 2634,
     "status": "ok",
     "timestamp": 1593953548696,
     "user": {
      "displayName": "George Kokonya",
      "photoUrl": "https://lh3.googleusercontent.com/a-/AOh14GjaFvgZS4ocR0KSup2i-fk9qlCz2jUDaoCY5uuiLg=s64",
      "userId": "09686228575458206223"
     },
     "user_tz": -180
    },
    "id": "PdM5k5BR3q0-"
   },
   "outputs": [],
   "source": [
    "#Import Libraries\n",
    "import pandas as pd\n",
    "import numpy as np\n",
    "import matplotlib.pyplot as plt\n",
    "import seaborn as sns\n",
    "%matplotlib inline"
   ]
  },
  {
   "cell_type": "code",
   "execution_count": 4,
   "metadata": {
    "colab": {},
    "colab_type": "code",
    "executionInfo": {
     "elapsed": 7245,
     "status": "ok",
     "timestamp": 1593953557262,
     "user": {
      "displayName": "George Kokonya",
      "photoUrl": "https://lh3.googleusercontent.com/a-/AOh14GjaFvgZS4ocR0KSup2i-fk9qlCz2jUDaoCY5uuiLg=s64",
      "userId": "09686228575458206223"
     },
     "user_tz": -180
    },
    "id": "VbDfF0123q1v"
   },
   "outputs": [],
   "source": [
    "#load traindataset\n",
    "train=pd.read_csv('Datasets/train.csv')"
   ]
  },
  {
   "cell_type": "markdown",
   "metadata": {
    "colab_type": "text",
    "id": "P8u8R64W3q4r"
   },
   "source": [
    "# Exploratory Data Analysis"
   ]
  },
  {
   "cell_type": "code",
   "execution_count": 5,
   "metadata": {
    "colab": {
     "base_uri": "https://localhost:8080/",
     "height": 364
    },
    "colab_type": "code",
    "executionInfo": {
     "elapsed": 2400,
     "status": "ok",
     "timestamp": 1593953563654,
     "user": {
      "displayName": "George Kokonya",
      "photoUrl": "https://lh3.googleusercontent.com/a-/AOh14GjaFvgZS4ocR0KSup2i-fk9qlCz2jUDaoCY5uuiLg=s64",
      "userId": "09686228575458206223"
     },
     "user_tz": -180
    },
    "id": "UccmUIlo3q4x",
    "outputId": "2ffe1bee-020c-41bc-b530-3e2a1bb1903d"
   },
   "outputs": [
    {
     "name": "stdout",
     "output_type": "stream",
     "text": [
      "<class 'pandas.core.frame.DataFrame'>\n",
      "RangeIndex: 614 entries, 0 to 613\n",
      "Data columns (total 13 columns):\n",
      " #   Column             Non-Null Count  Dtype  \n",
      "---  ------             --------------  -----  \n",
      " 0   Loan_ID            614 non-null    object \n",
      " 1   Gender             601 non-null    object \n",
      " 2   Married            611 non-null    object \n",
      " 3   Dependents         599 non-null    object \n",
      " 4   Education          614 non-null    object \n",
      " 5   Self_Employed      582 non-null    object \n",
      " 6   ApplicantIncome    614 non-null    int64  \n",
      " 7   CoapplicantIncome  614 non-null    float64\n",
      " 8   LoanAmount         592 non-null    float64\n",
      " 9   Loan_Amount_Term   600 non-null    float64\n",
      " 10  Credit_History     564 non-null    float64\n",
      " 11  Property_Area      614 non-null    object \n",
      " 12  Loan_Status        614 non-null    object \n",
      "dtypes: float64(4), int64(1), object(8)\n",
      "memory usage: 62.5+ KB\n"
     ]
    }
   ],
   "source": [
    "train.info()"
   ]
  },
  {
   "cell_type": "code",
   "execution_count": 6,
   "metadata": {
    "colab": {
     "base_uri": "https://localhost:8080/",
     "height": 300
    },
    "colab_type": "code",
    "executionInfo": {
     "elapsed": 1842,
     "status": "ok",
     "timestamp": 1593953563661,
     "user": {
      "displayName": "George Kokonya",
      "photoUrl": "https://lh3.googleusercontent.com/a-/AOh14GjaFvgZS4ocR0KSup2i-fk9qlCz2jUDaoCY5uuiLg=s64",
      "userId": "09686228575458206223"
     },
     "user_tz": -180
    },
    "id": "ap_G8Brv3q5I",
    "outputId": "0bee9717-b43c-4be3-98fa-73bbb2e6d262"
   },
   "outputs": [
    {
     "data": {
      "text/html": [
       "<div>\n",
       "<style scoped>\n",
       "    .dataframe tbody tr th:only-of-type {\n",
       "        vertical-align: middle;\n",
       "    }\n",
       "\n",
       "    .dataframe tbody tr th {\n",
       "        vertical-align: top;\n",
       "    }\n",
       "\n",
       "    .dataframe thead th {\n",
       "        text-align: right;\n",
       "    }\n",
       "</style>\n",
       "<table border=\"1\" class=\"dataframe\">\n",
       "  <thead>\n",
       "    <tr style=\"text-align: right;\">\n",
       "      <th></th>\n",
       "      <th>ApplicantIncome</th>\n",
       "      <th>CoapplicantIncome</th>\n",
       "      <th>LoanAmount</th>\n",
       "      <th>Loan_Amount_Term</th>\n",
       "      <th>Credit_History</th>\n",
       "    </tr>\n",
       "  </thead>\n",
       "  <tbody>\n",
       "    <tr>\n",
       "      <th>count</th>\n",
       "      <td>614.000000</td>\n",
       "      <td>614.000000</td>\n",
       "      <td>592.000000</td>\n",
       "      <td>600.00000</td>\n",
       "      <td>564.000000</td>\n",
       "    </tr>\n",
       "    <tr>\n",
       "      <th>mean</th>\n",
       "      <td>5403.459283</td>\n",
       "      <td>1621.245798</td>\n",
       "      <td>146.412162</td>\n",
       "      <td>342.00000</td>\n",
       "      <td>0.842199</td>\n",
       "    </tr>\n",
       "    <tr>\n",
       "      <th>std</th>\n",
       "      <td>6109.041673</td>\n",
       "      <td>2926.248369</td>\n",
       "      <td>85.587325</td>\n",
       "      <td>65.12041</td>\n",
       "      <td>0.364878</td>\n",
       "    </tr>\n",
       "    <tr>\n",
       "      <th>min</th>\n",
       "      <td>150.000000</td>\n",
       "      <td>0.000000</td>\n",
       "      <td>9.000000</td>\n",
       "      <td>12.00000</td>\n",
       "      <td>0.000000</td>\n",
       "    </tr>\n",
       "    <tr>\n",
       "      <th>25%</th>\n",
       "      <td>2877.500000</td>\n",
       "      <td>0.000000</td>\n",
       "      <td>100.000000</td>\n",
       "      <td>360.00000</td>\n",
       "      <td>1.000000</td>\n",
       "    </tr>\n",
       "    <tr>\n",
       "      <th>50%</th>\n",
       "      <td>3812.500000</td>\n",
       "      <td>1188.500000</td>\n",
       "      <td>128.000000</td>\n",
       "      <td>360.00000</td>\n",
       "      <td>1.000000</td>\n",
       "    </tr>\n",
       "    <tr>\n",
       "      <th>75%</th>\n",
       "      <td>5795.000000</td>\n",
       "      <td>2297.250000</td>\n",
       "      <td>168.000000</td>\n",
       "      <td>360.00000</td>\n",
       "      <td>1.000000</td>\n",
       "    </tr>\n",
       "    <tr>\n",
       "      <th>max</th>\n",
       "      <td>81000.000000</td>\n",
       "      <td>41667.000000</td>\n",
       "      <td>700.000000</td>\n",
       "      <td>480.00000</td>\n",
       "      <td>1.000000</td>\n",
       "    </tr>\n",
       "  </tbody>\n",
       "</table>\n",
       "</div>"
      ],
      "text/plain": [
       "       ApplicantIncome  CoapplicantIncome  LoanAmount  Loan_Amount_Term  \\\n",
       "count       614.000000         614.000000  592.000000         600.00000   \n",
       "mean       5403.459283        1621.245798  146.412162         342.00000   \n",
       "std        6109.041673        2926.248369   85.587325          65.12041   \n",
       "min         150.000000           0.000000    9.000000          12.00000   \n",
       "25%        2877.500000           0.000000  100.000000         360.00000   \n",
       "50%        3812.500000        1188.500000  128.000000         360.00000   \n",
       "75%        5795.000000        2297.250000  168.000000         360.00000   \n",
       "max       81000.000000       41667.000000  700.000000         480.00000   \n",
       "\n",
       "       Credit_History  \n",
       "count      564.000000  \n",
       "mean         0.842199  \n",
       "std          0.364878  \n",
       "min          0.000000  \n",
       "25%          1.000000  \n",
       "50%          1.000000  \n",
       "75%          1.000000  \n",
       "max          1.000000  "
      ]
     },
     "execution_count": 6,
     "metadata": {},
     "output_type": "execute_result"
    }
   ],
   "source": [
    "#Statistics of your dataset\n",
    "train.describe()"
   ]
  },
  {
   "cell_type": "code",
   "execution_count": 7,
   "metadata": {
    "colab": {},
    "colab_type": "code",
    "executionInfo": {
     "elapsed": 1913,
     "status": "ok",
     "timestamp": 1593953564341,
     "user": {
      "displayName": "George Kokonya",
      "photoUrl": "https://lh3.googleusercontent.com/a-/AOh14GjaFvgZS4ocR0KSup2i-fk9qlCz2jUDaoCY5uuiLg=s64",
      "userId": "09686228575458206223"
     },
     "user_tz": -180
    },
    "id": "lr3bAYMl3q5e"
   },
   "outputs": [],
   "source": [
    "#Create a new column for Total income\n",
    "train['TotalIncome']=train['ApplicantIncome']+train['CoapplicantIncome']"
   ]
  },
  {
   "cell_type": "code",
   "execution_count": 8,
   "metadata": {
    "colab": {},
    "colab_type": "code",
    "executionInfo": {
     "elapsed": 1353,
     "status": "ok",
     "timestamp": 1593953564346,
     "user": {
      "displayName": "George Kokonya",
      "photoUrl": "https://lh3.googleusercontent.com/a-/AOh14GjaFvgZS4ocR0KSup2i-fk9qlCz2jUDaoCY5uuiLg=s64",
      "userId": "09686228575458206223"
     },
     "user_tz": -180
    },
    "id": "FVqz69u83q57"
   },
   "outputs": [],
   "source": [
    "#Drop ApplicantIncome and CoapplicantIncome\n",
    "train.drop(['ApplicantIncome','CoapplicantIncome'],axis=1,inplace=True)"
   ]
  },
  {
   "cell_type": "code",
   "execution_count": 9,
   "metadata": {
    "colab": {
     "base_uri": "https://localhost:8080/",
     "height": 313
    },
    "colab_type": "code",
    "executionInfo": {
     "elapsed": 4264,
     "status": "ok",
     "timestamp": 1593953567748,
     "user": {
      "displayName": "George Kokonya",
      "photoUrl": "https://lh3.googleusercontent.com/a-/AOh14GjaFvgZS4ocR0KSup2i-fk9qlCz2jUDaoCY5uuiLg=s64",
      "userId": "09686228575458206223"
     },
     "user_tz": -180
    },
    "id": "5VuLpWN03q6w",
    "outputId": "b72d39e5-cebb-4691-b62f-cb8a57df42e4"
   },
   "outputs": [
    {
     "data": {
      "text/plain": [
       "<matplotlib.axes._subplots.AxesSubplot at 0x7fe69575ced0>"
      ]
     },
     "execution_count": 9,
     "metadata": {},
     "output_type": "execute_result"
    },
    {
     "data": {
      "image/png": "[encoded data removed]",
      "text/plain": [
       "<Figure size 432x288 with 1 Axes>"
      ]
     },
     "metadata": {},
     "output_type": "display_data"
    }
   ],
   "source": [
    "#Bar plot of Loan status with respect to Credit_History\n",
    "sns.set_style(style='darkgrid')\n",
    "plt.title('Loan status with respect to Credit_History')\n",
    "sns.countplot(train['Loan_Status'],hue='Credit_History',data=train)"
   ]
  },
  {
   "cell_type": "code",
   "execution_count": 10,
   "metadata": {
    "colab": {
     "base_uri": "https://localhost:8080/",
     "height": 313
    },
    "colab_type": "code",
    "executionInfo": {
     "elapsed": 3644,
     "status": "ok",
     "timestamp": 1593953567752,
     "user": {
      "displayName": "George Kokonya",
      "photoUrl": "https://lh3.googleusercontent.com/a-/AOh14GjaFvgZS4ocR0KSup2i-fk9qlCz2jUDaoCY5uuiLg=s64",
      "userId": "09686228575458206223"
     },
     "user_tz": -180
    },
    "id": "MZn9yqRx3q7J",
    "outputId": "86971b1c-b93f-46ce-b1bd-a4f53f8c1dbf"
   },
   "outputs": [
    {
     "data": {
      "text/plain": [
       "<matplotlib.axes._subplots.AxesSubplot at 0x7fe6927f7e50>"
      ]
     },
     "execution_count": 10,
     "metadata": {},
     "output_type": "execute_result"
    },
    {
     "data": {
      "image/png": "[encoded data removed]",
      "text/plain": [
       "<Figure size 432x288 with 1 Axes>"
      ]
     },
     "metadata": {},
     "output_type": "display_data"
    }
   ],
   "source": [
    "plt.title('Loan status with respect to Education')\n",
    "sns.countplot(train['Loan_Status'],hue='Education',data=train)"
   ]
  },
  {
   "cell_type": "code",
   "execution_count": 11,
   "metadata": {
    "colab": {
     "base_uri": "https://localhost:8080/",
     "height": 313
    },
    "colab_type": "code",
    "executionInfo": {
     "elapsed": 2967,
     "status": "ok",
     "timestamp": 1593953567756,
     "user": {
      "displayName": "George Kokonya",
      "photoUrl": "https://lh3.googleusercontent.com/a-/AOh14GjaFvgZS4ocR0KSup2i-fk9qlCz2jUDaoCY5uuiLg=s64",
      "userId": "09686228575458206223"
     },
     "user_tz": -180
    },
    "id": "g6hc6WEb3q7l",
    "outputId": "4b8abb1a-0c11-46ba-81c4-7dff11f45910"
   },
   "outputs": [
    {
     "data": {
      "text/plain": [
       "<matplotlib.axes._subplots.AxesSubplot at 0x7fe6927f5450>"
      ]
     },
     "execution_count": 11,
     "metadata": {},
     "output_type": "execute_result"
    },
    {
     "data": {
      "image/png": "[encoded data removed]",
      "text/plain": [
       "<Figure size 432x288 with 1 Axes>"
      ]
     },
     "metadata": {},
     "output_type": "display_data"
    }
   ],
   "source": [
    "plt.title('Loan status with respect to Self Employment')\n",
    "sns.countplot(train['Loan_Status'],hue='Self_Employed',data=train)"
   ]
  },
  {
   "cell_type": "code",
   "execution_count": 12,
   "metadata": {
    "colab": {
     "base_uri": "https://localhost:8080/",
     "height": 281
    },
    "colab_type": "code",
    "executionInfo": {
     "elapsed": 3235,
     "status": "ok",
     "timestamp": 1593953568737,
     "user": {
      "displayName": "George Kokonya",
      "photoUrl": "https://lh3.googleusercontent.com/a-/AOh14GjaFvgZS4ocR0KSup2i-fk9qlCz2jUDaoCY5uuiLg=s64",
      "userId": "09686228575458206223"
     },
     "user_tz": -180
    },
    "id": "7O2gmN1e3q77",
    "outputId": "a796f1dc-4ee7-4ff1-d927-812d7b66f1c2"
   },
   "outputs": [
    {
     "data": {
      "text/plain": [
       "<matplotlib.axes._subplots.AxesSubplot at 0x7fe692817690>"
      ]
     },
     "execution_count": 12,
     "metadata": {},
     "output_type": "execute_result"
    },
    {
     "data": {
      "image/png": "[encoded data removed]",
      "text/plain": [
       "<Figure size 432x288 with 1 Axes>"
      ]
     },
     "metadata": {},
     "output_type": "display_data"
    }
   ],
   "source": [
    "plt.title('Loan status with respect to Education')\n",
    "sns.boxplot(y='LoanAmount',data=train)"
   ]
  },
  {
   "cell_type": "code",
   "execution_count": 13,
   "metadata": {
    "colab": {
     "base_uri": "https://localhost:8080/",
     "height": 367
    },
    "colab_type": "code",
    "executionInfo": {
     "elapsed": 2211,
     "status": "ok",
     "timestamp": 1593953569827,
     "user": {
      "displayName": "George Kokonya",
      "photoUrl": "https://lh3.googleusercontent.com/a-/AOh14GjaFvgZS4ocR0KSup2i-fk9qlCz2jUDaoCY5uuiLg=s64",
      "userId": "09686228575458206223"
     },
     "user_tz": -180
    },
    "id": "iYCJEy8o3q8X",
    "outputId": "4663c9ea-f6ea-4b2c-aa0b-dce5a384eba9"
   },
   "outputs": [
    {
     "data": {
      "text/plain": [
       "<matplotlib.axes._subplots.AxesSubplot at 0x7fe6926eda90>"
      ]
     },
     "execution_count": 13,
     "metadata": {},
     "output_type": "execute_result"
    },
    {
     "data": {
      "image/png": "[encoded data removed]",
      "text/plain": [
       "<Figure size 720x360 with 1 Axes>"
      ]
     },
     "metadata": {},
     "output_type": "display_data"
    }
   ],
   "source": [
    "#Identifying outlier in LloanAmount\n",
    "plt.figure(figsize=(10,5))\n",
    "plt.title('Box plot of LoanAmount')\n",
    "sns.boxplot(x='Gender',y='LoanAmount',data=train)"
   ]
  },
  {
   "cell_type": "code",
   "execution_count": 14,
   "metadata": {
    "colab": {
     "base_uri": "https://localhost:8080/",
     "height": 639
    },
    "colab_type": "code",
    "executionInfo": {
     "elapsed": 2335,
     "status": "ok",
     "timestamp": 1593953571985,
     "user": {
      "displayName": "George Kokonya",
      "photoUrl": "https://lh3.googleusercontent.com/a-/AOh14GjaFvgZS4ocR0KSup2i-fk9qlCz2jUDaoCY5uuiLg=s64",
      "userId": "09686228575458206223"
     },
     "user_tz": -180
    },
    "id": "l5y9ML7a3q8t",
    "outputId": "461a5a62-cdf0-49f8-d745-b0dec91e157e"
   },
   "outputs": [
    {
     "data": {
      "text/plain": [
       "<matplotlib.axes._subplots.AxesSubplot at 0x7fe6925fdb10>"
      ]
     },
     "execution_count": 14,
     "metadata": {},
     "output_type": "execute_result"
    },
    {
     "data": {
      "image/png": "[encoded data removed]",
      "text/plain": [
       "<Figure size 720x720 with 1 Axes>"
      ]
     },
     "metadata": {},
     "output_type": "display_data"
    }
   ],
   "source": [
    "#Identifying outlier in LloanAmount\n",
    "plt.figure(figsize=(10,10))\n",
    "plt.title('Box plot of LoanAmount')\n",
    "\n",
    "sns.boxplot(x='Property_Area',y='LoanAmount',data=train)"
   ]
  },
  {
   "cell_type": "code",
   "execution_count": 15,
   "metadata": {
    "colab": {},
    "colab_type": "code",
    "executionInfo": {
     "elapsed": 1980,
     "status": "ok",
     "timestamp": 1593953572523,
     "user": {
      "displayName": "George Kokonya",
      "photoUrl": "https://lh3.googleusercontent.com/a-/AOh14GjaFvgZS4ocR0KSup2i-fk9qlCz2jUDaoCY5uuiLg=s64",
      "userId": "09686228575458206223"
     },
     "user_tz": -180
    },
    "id": "AowHlzIK3q9S"
   },
   "outputs": [],
   "source": [
    "#Use logarithm to null remove effect outliers on machine learning algorithm\n",
    "train['TotalIncome']=np.log(train['TotalIncome'])\n",
    "\n",
    "#Use logarithm to null remove effect outliers on machine learning algorithm\n",
    "train['LoanAmount']=np.log(train['LoanAmount'])"
   ]
  },
  {
   "cell_type": "markdown",
   "metadata": {
    "colab_type": "text",
    "id": "vKLb3nl63q90"
   },
   "source": [
    "# Data Cleaning"
   ]
  },
  {
   "cell_type": "code",
   "execution_count": 16,
   "metadata": {
    "colab": {
     "base_uri": "https://localhost:8080/",
     "height": 424
    },
    "colab_type": "code",
    "executionInfo": {
     "elapsed": 4375,
     "status": "ok",
     "timestamp": 1593953576243,
     "user": {
      "displayName": "George Kokonya",
      "photoUrl": "https://lh3.googleusercontent.com/a-/AOh14GjaFvgZS4ocR0KSup2i-fk9qlCz2jUDaoCY5uuiLg=s64",
      "userId": "09686228575458206223"
     },
     "user_tz": -180
    },
    "id": "6m8VcLPF3q94",
    "outputId": "44fb6a80-0893-46f2-86d2-565debaa42f6"
   },
   "outputs": [
    {
     "data": {
      "text/plain": [
       "<matplotlib.axes._subplots.AxesSubplot at 0x7fe692626c90>"
      ]
     },
     "execution_count": 16,
     "metadata": {},
     "output_type": "execute_result"
    },
    {
     "data": {
      "image/png": "[encoded data removed]",
      "text/plain": [
       "<Figure size 720x360 with 1 Axes>"
      ]
     },
     "metadata": {},
     "output_type": "display_data"
    }
   ],
   "source": [
    "#spotting missing data using heatmap\n",
    "plt.figure(figsize=(10,5))\n",
    "sns.heatmap(train.isnull(),yticklabels=False,cbar=False,cmap='viridis')"
   ]
  },
  {
   "cell_type": "markdown",
   "metadata": {
    "colab_type": "text",
    "id": "wqb49Ui2hA5m"
   },
   "source": [
    "# Impute Missing Values"
   ]
  },
  {
   "cell_type": "code",
   "execution_count": 17,
   "metadata": {
    "colab": {},
    "colab_type": "code",
    "executionInfo": {
     "elapsed": 2155,
     "status": "ok",
     "timestamp": 1593953581149,
     "user": {
      "displayName": "George Kokonya",
      "photoUrl": "https://lh3.googleusercontent.com/a-/AOh14GjaFvgZS4ocR0KSup2i-fk9qlCz2jUDaoCY5uuiLg=s64",
      "userId": "09686228575458206223"
     },
     "user_tz": -180
    },
    "id": "5RFj85Kd3q-X"
   },
   "outputs": [],
   "source": [
    "#Impute Gender with mode\n",
    "train['Gender'].fillna(train['Gender'].mode()[0],inplace=True)\n",
    "\n",
    "#Impute Gender with mode\n",
    "train['Married'].fillna(train['Married'].mode()[0],inplace=True)\n",
    "\n",
    "#Impute Dependents with mode\n",
    "train['Dependents'].fillna(train['Dependents'].mode()[0],inplace=True)\n",
    "\n",
    "#Impute Self_Employed with mode\n",
    "train['Self_Employed'].fillna(train['Self_Employed'].mode()[0],inplace=True)\n",
    "\n",
    "#Impute LoanAmount with mean\n",
    "train['LoanAmount'].fillna(train['LoanAmount'].mean(),inplace=True)\n",
    "\n",
    "#Impute Loan AMount Term with Mean\n",
    "train['Loan_Amount_Term'].fillna(train['Loan_Amount_Term'].mean(),inplace=True)\n",
    "\n",
    "#Impute Credit History by replacing with 1 where Loan_Status is Y and vice versa\n",
    "\n",
    "def impute_Credit_History(cols):\n",
    "    Credit_History=cols[0]\n",
    "    Loan_Status=cols[1]\n",
    "    \n",
    "    if pd.isnull(Credit_History):\n",
    "        \n",
    "        if Loan_Status=='Y':\n",
    "            return  1\n",
    "        elif Loan_Status=='N':\n",
    "            return 0\n",
    "    else:\n",
    "        return Credit_History\n",
    "\n",
    "train['Credit_History']=train[['Credit_History','Loan_Status']].apply(impute_Credit_History,axis=1)"
   ]
  },
  {
   "cell_type": "code",
   "execution_count": 18,
   "metadata": {
    "colab": {
     "base_uri": "https://localhost:8080/",
     "height": 424
    },
    "colab_type": "code",
    "executionInfo": {
     "elapsed": 2524,
     "status": "ok",
     "timestamp": 1593953582002,
     "user": {
      "displayName": "George Kokonya",
      "photoUrl": "https://lh3.googleusercontent.com/a-/AOh14GjaFvgZS4ocR0KSup2i-fk9qlCz2jUDaoCY5uuiLg=s64",
      "userId": "09686228575458206223"
     },
     "user_tz": -180
    },
    "id": "QOFsL7jg3q_B",
    "outputId": "664f7824-c4e1-423c-914f-4017cc1fa501"
   },
   "outputs": [
    {
     "data": {
      "text/plain": [
       "<matplotlib.axes._subplots.AxesSubplot at 0x7fe6957ace10>"
      ]
     },
     "execution_count": 18,
     "metadata": {},
     "output_type": "execute_result"
    },
    {
     "data": {
      "image/png": "[encoded data removed]",
      "text/plain": [
       "<Figure size 720x360 with 1 Axes>"
      ]
     },
     "metadata": {},
     "output_type": "display_data"
    }
   ],
   "source": [
    "#Check for any remaining missing values\n",
    "plt.figure(figsize=(10,5))\n",
    "sns.heatmap(train.isnull(),yticklabels=False,cbar=False,cmap='viridis')"
   ]
  },
  {
   "cell_type": "code",
   "execution_count": 19,
   "metadata": {
    "colab": {
     "base_uri": "https://localhost:8080/",
     "height": 226
    },
    "colab_type": "code",
    "executionInfo": {
     "elapsed": 2894,
     "status": "ok",
     "timestamp": 1593953583546,
     "user": {
      "displayName": "George Kokonya",
      "photoUrl": "https://lh3.googleusercontent.com/a-/AOh14GjaFvgZS4ocR0KSup2i-fk9qlCz2jUDaoCY5uuiLg=s64",
      "userId": "09686228575458206223"
     },
     "user_tz": -180
    },
    "id": "CHFR0Uqb3q_X",
    "outputId": "6ff3a342-f41a-41aa-e21d-d5806dcd766f"
   },
   "outputs": [
    {
     "data": {
      "text/html": [
       "<div>\n",
       "<style scoped>\n",
       "    .dataframe tbody tr th:only-of-type {\n",
       "        vertical-align: middle;\n",
       "    }\n",
       "\n",
       "    .dataframe tbody tr th {\n",
       "        vertical-align: top;\n",
       "    }\n",
       "\n",
       "    .dataframe thead th {\n",
       "        text-align: right;\n",
       "    }\n",
       "</style>\n",
       "<table border=\"1\" class=\"dataframe\">\n",
       "  <thead>\n",
       "    <tr style=\"text-align: right;\">\n",
       "      <th></th>\n",
       "      <th>Loan_ID</th>\n",
       "      <th>Gender</th>\n",
       "      <th>Married</th>\n",
       "      <th>Dependents</th>\n",
       "      <th>Education</th>\n",
       "      <th>Self_Employed</th>\n",
       "      <th>LoanAmount</th>\n",
       "      <th>Loan_Amount_Term</th>\n",
       "      <th>Credit_History</th>\n",
       "      <th>Property_Area</th>\n",
       "      <th>Loan_Status</th>\n",
       "      <th>TotalIncome</th>\n",
       "    </tr>\n",
       "  </thead>\n",
       "  <tbody>\n",
       "    <tr>\n",
       "      <th>0</th>\n",
       "      <td>LP001002</td>\n",
       "      <td>1</td>\n",
       "      <td>0</td>\n",
       "      <td>0</td>\n",
       "      <td>1</td>\n",
       "      <td>0</td>\n",
       "      <td>4.857444</td>\n",
       "      <td>360.0</td>\n",
       "      <td>1.0</td>\n",
       "      <td>2</td>\n",
       "      <td>1</td>\n",
       "      <td>8.674026</td>\n",
       "    </tr>\n",
       "    <tr>\n",
       "      <th>1</th>\n",
       "      <td>LP001003</td>\n",
       "      <td>1</td>\n",
       "      <td>1</td>\n",
       "      <td>1</td>\n",
       "      <td>1</td>\n",
       "      <td>0</td>\n",
       "      <td>4.852030</td>\n",
       "      <td>360.0</td>\n",
       "      <td>1.0</td>\n",
       "      <td>0</td>\n",
       "      <td>0</td>\n",
       "      <td>8.714568</td>\n",
       "    </tr>\n",
       "    <tr>\n",
       "      <th>2</th>\n",
       "      <td>LP001005</td>\n",
       "      <td>1</td>\n",
       "      <td>1</td>\n",
       "      <td>0</td>\n",
       "      <td>1</td>\n",
       "      <td>1</td>\n",
       "      <td>4.189655</td>\n",
       "      <td>360.0</td>\n",
       "      <td>1.0</td>\n",
       "      <td>2</td>\n",
       "      <td>1</td>\n",
       "      <td>8.006368</td>\n",
       "    </tr>\n",
       "    <tr>\n",
       "      <th>3</th>\n",
       "      <td>LP001006</td>\n",
       "      <td>1</td>\n",
       "      <td>1</td>\n",
       "      <td>0</td>\n",
       "      <td>0</td>\n",
       "      <td>0</td>\n",
       "      <td>4.787492</td>\n",
       "      <td>360.0</td>\n",
       "      <td>1.0</td>\n",
       "      <td>2</td>\n",
       "      <td>1</td>\n",
       "      <td>8.505323</td>\n",
       "    </tr>\n",
       "    <tr>\n",
       "      <th>4</th>\n",
       "      <td>LP001008</td>\n",
       "      <td>1</td>\n",
       "      <td>0</td>\n",
       "      <td>0</td>\n",
       "      <td>1</td>\n",
       "      <td>0</td>\n",
       "      <td>4.948760</td>\n",
       "      <td>360.0</td>\n",
       "      <td>1.0</td>\n",
       "      <td>2</td>\n",
       "      <td>1</td>\n",
       "      <td>8.699515</td>\n",
       "    </tr>\n",
       "  </tbody>\n",
       "</table>\n",
       "</div>"
      ],
      "text/plain": [
       "    Loan_ID  Gender  Married  Dependents  Education  Self_Employed  \\\n",
       "0  LP001002       1        0           0          1              0   \n",
       "1  LP001003       1        1           1          1              0   \n",
       "2  LP001005       1        1           0          1              1   \n",
       "3  LP001006       1        1           0          0              0   \n",
       "4  LP001008       1        0           0          1              0   \n",
       "\n",
       "   LoanAmount  Loan_Amount_Term  Credit_History  Property_Area  Loan_Status  \\\n",
       "0    4.857444             360.0             1.0              2            1   \n",
       "1    4.852030             360.0             1.0              0            0   \n",
       "2    4.189655             360.0             1.0              2            1   \n",
       "3    4.787492             360.0             1.0              2            1   \n",
       "4    4.948760             360.0             1.0              2            1   \n",
       "\n",
       "   TotalIncome  \n",
       "0     8.674026  \n",
       "1     8.714568  \n",
       "2     8.006368  \n",
       "3     8.505323  \n",
       "4     8.699515  "
      ]
     },
     "execution_count": 19,
     "metadata": {},
     "output_type": "execute_result"
    }
   ],
   "source": [
    "#Make categorical values to numeric values\n",
    "train[\"Gender\"] = train[\"Gender\"].replace([\"Female\",\"Male\"], [0, 1])\n",
    "train[\"Married\"] = train[\"Married\"].replace([\"No\",\"Yes\"], [0, 1])\n",
    "train[\"Dependents\"] = train[\"Dependents\"].replace([\"0\",\"1\",\"2\",\"3+\"], [0, 1,2,3])\n",
    "train[\"Education\"] = train[\"Education\"].replace([\"Not Graduate\",\"Graduate\"], [0, 1])\n",
    "train[\"Self_Employed\"] = train[\"Self_Employed\"].replace([\"No\",\"Yes\"], [0, 1])\n",
    "train[\"Loan_Status\"] = train[\"Loan_Status\"].replace([\"N\",\"Y\"], [0, 1])\n",
    "train[\"Property_Area\"] = train[\"Property_Area\"].replace([\"Rural\",\"Semiurban\", \"Urban\"], [0, 1, 2])\n",
    "train.head()\n"
   ]
  },
  {
   "cell_type": "code",
   "execution_count": 20,
   "metadata": {
    "colab": {
     "base_uri": "https://localhost:8080/",
     "height": 424
    },
    "colab_type": "code",
    "executionInfo": {
     "elapsed": 7665,
     "status": "ok",
     "timestamp": 1593953589530,
     "user": {
      "displayName": "George Kokonya",
      "photoUrl": "https://lh3.googleusercontent.com/a-/AOh14GjaFvgZS4ocR0KSup2i-fk9qlCz2jUDaoCY5uuiLg=s64",
      "userId": "09686228575458206223"
     },
     "user_tz": -180
    },
    "id": "FRI8mPHo3q_7",
    "outputId": "cdb44978-f60d-4337-86c0-221d956ce5fb"
   },
   "outputs": [
    {
     "data": {
      "text/plain": [
       "<matplotlib.axes._subplots.AxesSubplot at 0x7fe692f135d0>"
      ]
     },
     "execution_count": 20,
     "metadata": {},
     "output_type": "execute_result"
    },
    {
     "data": {
      "image/png": "[encoded data removed]",
      "text/plain": [
       "<Figure size 720x360 with 1 Axes>"
      ]
     },
     "metadata": {},
     "output_type": "display_data"
    }
   ],
   "source": [
    "#Check to see if dataset has  missing values\n",
    "plt.figure(figsize=(10,5))\n",
    "sns.heatmap(train.isnull(),yticklabels=False,cbar=False,cmap='viridis')"
   ]
  },
  {
   "cell_type": "markdown",
   "metadata": {
    "colab_type": "text",
    "id": "Raa7lxAt3rAs"
   },
   "source": [
    "# Feature Selection"
   ]
  },
  {
   "cell_type": "code",
   "execution_count": 21,
   "metadata": {
    "colab": {},
    "colab_type": "code",
    "executionInfo": {
     "elapsed": 3217,
     "status": "ok",
     "timestamp": 1593953592284,
     "user": {
      "displayName": "George Kokonya",
      "photoUrl": "https://lh3.googleusercontent.com/a-/AOh14GjaFvgZS4ocR0KSup2i-fk9qlCz2jUDaoCY5uuiLg=s64",
      "userId": "09686228575458206223"
     },
     "user_tz": -180
    },
    "id": "_1DXIncf3rAw"
   },
   "outputs": [],
   "source": [
    "x_feature=train.drop(['Loan_Status','Loan_ID'],axis=1)\n",
    "y_feauture=train['Loan_Status']"
   ]
  },
  {
   "cell_type": "code",
   "execution_count": 31,
   "metadata": {
    "colab": {},
    "colab_type": "code",
    "executionInfo": {
     "elapsed": 3541,
     "status": "ok",
     "timestamp": 1593953593646,
     "user": {
      "displayName": "George Kokonya",
      "photoUrl": "https://lh3.googleusercontent.com/a-/AOh14GjaFvgZS4ocR0KSup2i-fk9qlCz2jUDaoCY5uuiLg=s64",
      "userId": "09686228575458206223"
     },
     "user_tz": -180
    },
    "id": "J-q8LA2P3rBF"
   },
   "outputs": [],
   "source": [
    "#Import chi2,SelectKBest\n",
    "from sklearn.feature_selection import SelectKBest\n",
    "from sklearn.feature_selection import chi2"
   ]
  },
  {
   "cell_type": "code",
   "execution_count": 32,
   "metadata": {
    "colab": {},
    "colab_type": "code",
    "executionInfo": {
     "elapsed": 2386,
     "status": "ok",
     "timestamp": 1593953595130,
     "user": {
      "displayName": "George Kokonya",
      "photoUrl": "https://lh3.googleusercontent.com/a-/AOh14GjaFvgZS4ocR0KSup2i-fk9qlCz2jUDaoCY5uuiLg=s64",
      "userId": "09686228575458206223"
     },
     "user_tz": -180
    },
    "id": "WECCQmXq3rBV"
   },
   "outputs": [],
   "source": [
    "#apply SelectKBest class to extract top 10 best features \n",
    "bestfeatures=SelectKBest(score_func=chi2,k=10)\n",
    "fit=bestfeatures.fit(x_feature,y_feauture)"
   ]
  },
  {
   "cell_type": "code",
   "execution_count": 33,
   "metadata": {
    "colab": {},
    "colab_type": "code",
    "executionInfo": {
     "elapsed": 1827,
     "status": "ok",
     "timestamp": 1593953595134,
     "user": {
      "displayName": "George Kokonya",
      "photoUrl": "https://lh3.googleusercontent.com/a-/AOh14GjaFvgZS4ocR0KSup2i-fk9qlCz2jUDaoCY5uuiLg=s64",
      "userId": "09686228575458206223"
     },
     "user_tz": -180
    },
    "id": "s3P5Ml5P3rBn"
   },
   "outputs": [],
   "source": [
    "#fit,score_ calculates score value based on the chi square test\n",
    "dfscores=pd.DataFrame(fit.scores_)\n",
    "dfcolumns=pd.DataFrame(x_feature.columns) "
   ]
  },
  {
   "cell_type": "code",
   "execution_count": 34,
   "metadata": {
    "colab": {},
    "colab_type": "code",
    "executionInfo": {
     "elapsed": 1092,
     "status": "ok",
     "timestamp": 1593953596054,
     "user": {
      "displayName": "George Kokonya",
      "photoUrl": "https://lh3.googleusercontent.com/a-/AOh14GjaFvgZS4ocR0KSup2i-fk9qlCz2jUDaoCY5uuiLg=s64",
      "userId": "09686228575458206223"
     },
     "user_tz": -180
    },
    "id": "NM2zMAvF3rB4"
   },
   "outputs": [],
   "source": [
    "featureScores=pd.concat([dfcolumns,dfscores],axis=1)\n",
    "featureScores.columns=['Features','Score']"
   ]
  },
  {
   "cell_type": "code",
   "execution_count": 35,
   "metadata": {
    "colab": {
     "base_uri": "https://localhost:8080/",
     "height": 208
    },
    "colab_type": "code",
    "executionInfo": {
     "elapsed": 1346,
     "status": "ok",
     "timestamp": 1593953596896,
     "user": {
      "displayName": "George Kokonya",
      "photoUrl": "https://lh3.googleusercontent.com/a-/AOh14GjaFvgZS4ocR0KSup2i-fk9qlCz2jUDaoCY5uuiLg=s64",
      "userId": "09686228575458206223"
     },
     "user_tz": -180
    },
    "id": "LDnfN_ZP3rCO",
    "outputId": "0135a042-d946-4d06-ddc3-df2c1a540e9f"
   },
   "outputs": [
    {
     "name": "stdout",
     "output_type": "stream",
     "text": [
      "           Features      Score\n",
      "7    Credit_History  36.188460\n",
      "6  Loan_Amount_Term   3.267315\n",
      "1           Married   1.782425\n",
      "3         Education   0.988390\n",
      "8     Property_Area   0.377837\n",
      "2        Dependents   0.085953\n",
      "5        LoanAmount   0.045197\n",
      "0            Gender   0.036234\n",
      "4     Self_Employed   0.007285\n",
      "9       TotalIncome   0.001101\n"
     ]
    }
   ],
   "source": [
    "print(featureScores.nlargest(15,'Score'))"
   ]
  },
  {
   "cell_type": "code",
   "execution_count": 36,
   "metadata": {
    "colab": {},
    "colab_type": "code",
    "executionInfo": {
     "elapsed": 1880,
     "status": "ok",
     "timestamp": 1593953598654,
     "user": {
      "displayName": "George Kokonya",
      "photoUrl": "https://lh3.googleusercontent.com/a-/AOh14GjaFvgZS4ocR0KSup2i-fk9qlCz2jUDaoCY5uuiLg=s64",
      "userId": "09686228575458206223"
     },
     "user_tz": -180
    },
    "id": "p1pubFrf3rD3"
   },
   "outputs": [],
   "source": [
    "#Independent Variables\n",
    "X=train[['Credit_History','Loan_Amount_Term','Married','Education']]\n",
    "\n",
    "#Dependent Variable\n",
    "y=train['Loan_Status']"
   ]
  },
  {
   "cell_type": "code",
   "execution_count": 37,
   "metadata": {
    "colab": {},
    "colab_type": "code",
    "executionInfo": {
     "elapsed": 1607,
     "status": "ok",
     "timestamp": 1593953600151,
     "user": {
      "displayName": "George Kokonya",
      "photoUrl": "https://lh3.googleusercontent.com/a-/AOh14GjaFvgZS4ocR0KSup2i-fk9qlCz2jUDaoCY5uuiLg=s64",
      "userId": "09686228575458206223"
     },
     "user_tz": -180
    },
    "id": "rsDdPmcHR9_y"
   },
   "outputs": [],
   "source": [
    "#Split Data into Training set and Testing set\n",
    "from sklearn.model_selection import train_test_split \n",
    "X_train, X_test, y_train, y_test = train_test_split(X, y, test_size=0.2, random_state=101)"
   ]
  },
  {
   "cell_type": "markdown",
   "metadata": {
    "colab_type": "text",
    "id": "fR6TmVPL5LgP"
   },
   "source": [
    "# Model Building"
   ]
  },
  {
   "cell_type": "code",
   "execution_count": 38,
   "metadata": {
    "colab": {},
    "colab_type": "code",
    "executionInfo": {
     "elapsed": 3040,
     "status": "ok",
     "timestamp": 1593953603859,
     "user": {
      "displayName": "George Kokonya",
      "photoUrl": "https://lh3.googleusercontent.com/a-/AOh14GjaFvgZS4ocR0KSup2i-fk9qlCz2jUDaoCY5uuiLg=s64",
      "userId": "09686228575458206223"
     },
     "user_tz": -180
    },
    "id": "kXedVCYa3rFn"
   },
   "outputs": [],
   "source": [
    "#Import Algorithm\n",
    "from sklearn.linear_model import LogisticRegression\n",
    "\n",
    "#Instantiate LogisticRegression\n",
    "logmodel=LogisticRegression()\n",
    "\n",
    "#Training the model\n",
    "logmodel.fit(X_train,y_train)\n",
    "\n",
    "#Make Prediction\n",
    "y_pred=logmodel.predict(X_test)"
   ]
  },
  {
   "cell_type": "markdown",
   "metadata": {
    "colab_type": "text",
    "id": "nbbIPx_aBPuS"
   },
   "source": [
    "# Model Evaluation"
   ]
  },
  {
   "cell_type": "code",
   "execution_count": 39,
   "metadata": {
    "colab": {
     "base_uri": "https://localhost:8080/",
     "height": 173
    },
    "colab_type": "code",
    "executionInfo": {
     "elapsed": 2730,
     "status": "ok",
     "timestamp": 1593953607248,
     "user": {
      "displayName": "George Kokonya",
      "photoUrl": "https://lh3.googleusercontent.com/a-/AOh14GjaFvgZS4ocR0KSup2i-fk9qlCz2jUDaoCY5uuiLg=s64",
      "userId": "09686228575458206223"
     },
     "user_tz": -180
    },
    "id": "DeuQk4R4EMfh",
    "outputId": "c5dcd898-11d5-4aeb-fe7c-e200b5319c3d"
   },
   "outputs": [
    {
     "name": "stdout",
     "output_type": "stream",
     "text": [
      "              precision    recall  f1-score   support\n",
      "\n",
      "           0       0.96      0.51      0.67        45\n",
      "           1       0.78      0.99      0.87        78\n",
      "\n",
      "    accuracy                           0.81       123\n",
      "   macro avg       0.87      0.75      0.77       123\n",
      "weighted avg       0.84      0.81      0.80       123\n",
      "\n"
     ]
    }
   ],
   "source": [
    "from sklearn.metrics import classification_report\n",
    "print(classification_report(y_test,y_pred))"
   ]
  },
  {
   "cell_type": "code",
   "execution_count": null,
   "metadata": {
    "colab": {},
    "colab_type": "code",
    "id": "zEleFoFECzKq"
   },
   "outputs": [],
   "source": []
  }
 ],
 "metadata": {
  "colab": {
   "collapsed_sections": [],
   "name": "Loan Approval.ipynb",
   "provenance": [],
   "toc_visible": true
  },
  "kernelspec": {
   "display_name": "Python 3",
   "language": "python",
   "name": "python3"
  },
  "language_info": {
   "codemirror_mode": {
    "name": "ipython",
    "version": 3
   },
   "file_extension": ".py",
   "mimetype": "text/x-python",
   "name": "python",
   "nbconvert_exporter": "python",
   "pygments_lexer": "ipython3",
   "version": "3.7.6"
  }
 },
 "nbformat": 4,
 "nbformat_minor": 1
}
